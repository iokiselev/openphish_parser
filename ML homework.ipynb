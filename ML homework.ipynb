{
 "cells": [
  {
   "cell_type": "code",
   "execution_count": 5,
   "id": "74209bb9",
   "metadata": {},
   "outputs": [],
   "source": [
    "import pandas as pd\n",
    "from bs4 import BeautifulSoup\n",
    "import requests\n",
    "from datetime import datetime\n",
    "import random\n",
    "import time\n",
    "import os\n",
    "\n",
    "url_openphish = 'https://openphish.com/'\n",
    "alive_sites = []\n",
    "start_time = datetime.now().strftime(\"%m/%d/%Y %H:%M:%S\")\n",
    "\n",
    "def parse_data():\n",
    "    page = requests.get(url_openphish, stream=True, allow_redirects=True, timeout=10, verify=False)\n",
    "    soup = BeautifulSoup(page.text, \"html.parser\")\n",
    "    table = soup.find('table', class_ = 'pure-table pure-table-striped')\n",
    "    internal_table = table.find('tbody')\n",
    "    \n",
    "    now = datetime.now()\n",
    "    current_time = now.strftime(\"%m/%d/%Y %H:%M:%S\")\n",
    "    date = current_time.split(\" \")[0]\n",
    "\n",
    "    for tr in internal_table.find_all('tr'):\n",
    "        url = \"\"\n",
    "        target = \"\"\n",
    "        attack_time = \"\"\n",
    "        row = []\n",
    "        for td in tr.find_all('td'):\n",
    "            row.append(td.text.strip())        \n",
    "        if row:\n",
    "            url = row[0]\n",
    "            target = row[1]        \n",
    "            attack_time = date + \" \" + row[2]\n",
    "\n",
    "            datetime_object = datetime.strptime(attack_time,\"%m/%d/%Y %H:%M:%S\")\n",
    "            if ((now - datetime_object).total_seconds()/60-180)<16:\n",
    "                alive_sites.append([url, target, attack_time])"
   ]
  },
  {
   "cell_type": "code",
   "execution_count": 6,
   "id": "57413511",
   "metadata": {},
   "outputs": [],
   "source": [
    "# Function to store the data\n",
    "def store_data(start_time, end_time, alive_sites):\n",
    "    df = pd.DataFrame(alive_sites, columns=[\"URL\", \"Target\", \"Attack Time\"])\n",
    "    filename = \"attack_data.csv\"\n",
    "    if os.path.exists(filename):\n",
    "        with open(filename, 'a') as f:\n",
    "            df.to_csv(f, header=False, index=False)\n",
    "    else:\n",
    "        df.to_csv(filename, index=False)\n",
    "\n",
    "    print(\"Parsing start time:\", start_time)\n",
    "    print(\"Parsing end time:\", end_time)\n",
    "    print(\"Number of unique URLs for the given period:\", len(set(df['URL'])))\n",
    "    print(\"Top 3 most frequently attacked brands:\", df['Target'].value_counts().head(3))"
   ]
  },
  {
   "cell_type": "code",
   "execution_count": 7,
   "id": "8c9848e3",
   "metadata": {},
   "outputs": [
    {
     "name": "stderr",
     "output_type": "stream",
     "text": [
      "/usr/local/lib/python3.10/site-packages/urllib3/connectionpool.py:1045: InsecureRequestWarning: Unverified HTTPS request is being made to host 'openphish.com'. Adding certificate verification is strongly advised. See: https://urllib3.readthedocs.io/en/1.26.x/advanced-usage.html#ssl-warnings\n",
      "  warnings.warn(\n"
     ]
    },
    {
     "name": "stdout",
     "output_type": "stream",
     "text": [
      "Parsing start time: 02/04/2023 23:02:56\n",
      "Parsing end time: 02/04/2023 23:02:59\n",
      "Number of unique URLs for the given period: 4\n",
      "Top 3 most frequently attacked brands: Generic/Spear Phishing    1\n",
      "Facebook, Inc.            1\n",
      "Crypto/Wallet             1\n",
      "Name: Target, dtype: int64\n"
     ]
    },
    {
     "name": "stderr",
     "output_type": "stream",
     "text": [
      "/usr/local/lib/python3.10/site-packages/urllib3/connectionpool.py:1045: InsecureRequestWarning: Unverified HTTPS request is being made to host 'openphish.com'. Adding certificate verification is strongly advised. See: https://urllib3.readthedocs.io/en/1.26.x/advanced-usage.html#ssl-warnings\n",
      "  warnings.warn(\n"
     ]
    },
    {
     "name": "stdout",
     "output_type": "stream",
     "text": [
      "Parsing start time: 02/04/2023 23:02:56\n",
      "Parsing end time: 02/04/2023 23:08:00\n",
      "Number of unique URLs for the given period: 3\n",
      "Top 3 most frequently attacked brands: Crypto/Wallet             1\n",
      "Generic/Spear Phishing    1\n",
      "Facebook, Inc.            1\n",
      "Name: Target, dtype: int64\n"
     ]
    },
    {
     "name": "stderr",
     "output_type": "stream",
     "text": [
      "/usr/local/lib/python3.10/site-packages/urllib3/connectionpool.py:1045: InsecureRequestWarning: Unverified HTTPS request is being made to host 'openphish.com'. Adding certificate verification is strongly advised. See: https://urllib3.readthedocs.io/en/1.26.x/advanced-usage.html#ssl-warnings\n",
      "  warnings.warn(\n"
     ]
    },
    {
     "name": "stdout",
     "output_type": "stream",
     "text": [
      "Parsing start time: 02/04/2023 23:02:56\n",
      "Parsing end time: 02/04/2023 23:13:00\n",
      "Number of unique URLs for the given period: 5\n",
      "Top 3 most frequently attacked brands: Yahoo! Inc            1\n",
      "Microsoft OneDrive    1\n",
      "Crypto/Wallet         1\n",
      "Name: Target, dtype: int64\n"
     ]
    },
    {
     "name": "stderr",
     "output_type": "stream",
     "text": [
      "/usr/local/lib/python3.10/site-packages/urllib3/connectionpool.py:1045: InsecureRequestWarning: Unverified HTTPS request is being made to host 'openphish.com'. Adding certificate verification is strongly advised. See: https://urllib3.readthedocs.io/en/1.26.x/advanced-usage.html#ssl-warnings\n",
      "  warnings.warn(\n"
     ]
    },
    {
     "name": "stdout",
     "output_type": "stream",
     "text": [
      "Parsing start time: 02/04/2023 23:02:56\n",
      "Parsing end time: 02/04/2023 23:18:01\n",
      "Number of unique URLs for the given period: 6\n",
      "Top 3 most frequently attacked brands: AT&T Inc.                 1\n",
      "Generic/Spear Phishing    1\n",
      "Webmail Providers         1\n",
      "Name: Target, dtype: int64\n"
     ]
    },
    {
     "name": "stderr",
     "output_type": "stream",
     "text": [
      "/usr/local/lib/python3.10/site-packages/urllib3/connectionpool.py:1045: InsecureRequestWarning: Unverified HTTPS request is being made to host 'openphish.com'. Adding certificate verification is strongly advised. See: https://urllib3.readthedocs.io/en/1.26.x/advanced-usage.html#ssl-warnings\n",
      "  warnings.warn(\n"
     ]
    },
    {
     "name": "stdout",
     "output_type": "stream",
     "text": [
      "Parsing start time: 02/04/2023 23:02:56\n",
      "Parsing end time: 02/04/2023 23:23:01\n",
      "Number of unique URLs for the given period: 6\n",
      "Top 3 most frequently attacked brands: Outlook                   1\n",
      "AT&T Inc.                 1\n",
      "Generic/Spear Phishing    1\n",
      "Name: Target, dtype: int64\n"
     ]
    },
    {
     "name": "stderr",
     "output_type": "stream",
     "text": [
      "/usr/local/lib/python3.10/site-packages/urllib3/connectionpool.py:1045: InsecureRequestWarning: Unverified HTTPS request is being made to host 'openphish.com'. Adding certificate verification is strongly advised. See: https://urllib3.readthedocs.io/en/1.26.x/advanced-usage.html#ssl-warnings\n",
      "  warnings.warn(\n"
     ]
    },
    {
     "name": "stdout",
     "output_type": "stream",
     "text": [
      "Parsing start time: 02/04/2023 23:02:56\n",
      "Parsing end time: 02/04/2023 23:28:02\n",
      "Number of unique URLs for the given period: 7\n",
      "Top 3 most frequently attacked brands: Office365                 1\n",
      "DHL Airways, Inc.         1\n",
      "Generic/Spear Phishing    1\n",
      "Name: Target, dtype: int64\n"
     ]
    },
    {
     "name": "stderr",
     "output_type": "stream",
     "text": [
      "/usr/local/lib/python3.10/site-packages/urllib3/connectionpool.py:1045: InsecureRequestWarning: Unverified HTTPS request is being made to host 'openphish.com'. Adding certificate verification is strongly advised. See: https://urllib3.readthedocs.io/en/1.26.x/advanced-usage.html#ssl-warnings\n",
      "  warnings.warn(\n"
     ]
    },
    {
     "name": "stdout",
     "output_type": "stream",
     "text": [
      "Parsing start time: 02/04/2023 23:02:56\n",
      "Parsing end time: 02/04/2023 23:33:02\n",
      "Number of unique URLs for the given period: 5\n",
      "Top 3 most frequently attacked brands: Office365                 1\n",
      "Generic/Spear Phishing    1\n",
      "Deutsche Kreditbank       1\n",
      "Name: Target, dtype: int64\n"
     ]
    },
    {
     "name": "stderr",
     "output_type": "stream",
     "text": [
      "/usr/local/lib/python3.10/site-packages/urllib3/connectionpool.py:1045: InsecureRequestWarning: Unverified HTTPS request is being made to host 'openphish.com'. Adding certificate verification is strongly advised. See: https://urllib3.readthedocs.io/en/1.26.x/advanced-usage.html#ssl-warnings\n",
      "  warnings.warn(\n"
     ]
    },
    {
     "name": "stdout",
     "output_type": "stream",
     "text": [
      "Parsing start time: 02/04/2023 23:02:56\n",
      "Parsing end time: 02/04/2023 23:38:03\n",
      "Number of unique URLs for the given period: 5\n",
      "Top 3 most frequently attacked brands: Outlook                   1\n",
      "Office365                 1\n",
      "Generic/Spear Phishing    1\n",
      "Name: Target, dtype: int64\n"
     ]
    },
    {
     "name": "stderr",
     "output_type": "stream",
     "text": [
      "/usr/local/lib/python3.10/site-packages/urllib3/connectionpool.py:1045: InsecureRequestWarning: Unverified HTTPS request is being made to host 'openphish.com'. Adding certificate verification is strongly advised. See: https://urllib3.readthedocs.io/en/1.26.x/advanced-usage.html#ssl-warnings\n",
      "  warnings.warn(\n"
     ]
    },
    {
     "name": "stdout",
     "output_type": "stream",
     "text": [
      "Parsing start time: 02/04/2023 23:02:56\n",
      "Parsing end time: 02/04/2023 23:43:04\n",
      "Number of unique URLs for the given period: 6\n",
      "Top 3 most frequently attacked brands: Credit Agricole S.A.      1\n",
      "Generic/Spear Phishing    1\n",
      "Microsoft OneDrive        1\n",
      "Name: Target, dtype: int64\n"
     ]
    },
    {
     "name": "stderr",
     "output_type": "stream",
     "text": [
      "/usr/local/lib/python3.10/site-packages/urllib3/connectionpool.py:1045: InsecureRequestWarning: Unverified HTTPS request is being made to host 'openphish.com'. Adding certificate verification is strongly advised. See: https://urllib3.readthedocs.io/en/1.26.x/advanced-usage.html#ssl-warnings\n",
      "  warnings.warn(\n"
     ]
    },
    {
     "name": "stdout",
     "output_type": "stream",
     "text": [
      "Parsing start time: 02/04/2023 23:02:56\n",
      "Parsing end time: 02/04/2023 23:48:04\n",
      "Number of unique URLs for the given period: 9\n",
      "Top 3 most frequently attacked brands: Bank of America           1\n",
      "Lojas Renner              1\n",
      "Generic/Spear Phishing    1\n",
      "Name: Target, dtype: int64\n"
     ]
    },
    {
     "name": "stderr",
     "output_type": "stream",
     "text": [
      "/usr/local/lib/python3.10/site-packages/urllib3/connectionpool.py:1045: InsecureRequestWarning: Unverified HTTPS request is being made to host 'openphish.com'. Adding certificate verification is strongly advised. See: https://urllib3.readthedocs.io/en/1.26.x/advanced-usage.html#ssl-warnings\n",
      "  warnings.warn(\n"
     ]
    },
    {
     "name": "stdout",
     "output_type": "stream",
     "text": [
      "Parsing start time: 02/04/2023 23:02:56\n",
      "Parsing end time: 02/04/2023 23:53:05\n",
      "Number of unique URLs for the given period: 9\n",
      "Top 3 most frequently attacked brands: Discover                  1\n",
      "Generic/Spear Phishing    1\n",
      "Bank of America           1\n",
      "Name: Target, dtype: int64\n"
     ]
    },
    {
     "name": "stderr",
     "output_type": "stream",
     "text": [
      "/usr/local/lib/python3.10/site-packages/urllib3/connectionpool.py:1045: InsecureRequestWarning: Unverified HTTPS request is being made to host 'openphish.com'. Adding certificate verification is strongly advised. See: https://urllib3.readthedocs.io/en/1.26.x/advanced-usage.html#ssl-warnings\n",
      "  warnings.warn(\n"
     ]
    },
    {
     "name": "stdout",
     "output_type": "stream",
     "text": [
      "Parsing start time: 02/04/2023 23:02:56\n",
      "Parsing end time: 02/04/2023 23:58:06\n",
      "Number of unique URLs for the given period: 8\n",
      "Top 3 most frequently attacked brands: Crypto/Wallet             1\n",
      "Generic/Spear Phishing    1\n",
      "Discover                  1\n",
      "Name: Target, dtype: int64\n"
     ]
    },
    {
     "name": "stderr",
     "output_type": "stream",
     "text": [
      "/usr/local/lib/python3.10/site-packages/urllib3/connectionpool.py:1045: InsecureRequestWarning: Unverified HTTPS request is being made to host 'openphish.com'. Adding certificate verification is strongly advised. See: https://urllib3.readthedocs.io/en/1.26.x/advanced-usage.html#ssl-warnings\n",
      "  warnings.warn(\n"
     ]
    },
    {
     "name": "stdout",
     "output_type": "stream",
     "text": [
      "Parsing start time: 02/04/2023 23:02:56\n",
      "Parsing end time: 02/05/2023 00:03:06\n",
      "Number of unique URLs for the given period: 30\n",
      "Top 3 most frequently attacked brands: Bank of America    1\n",
      "Tencent            1\n",
      "Grupo Santander    1\n",
      "Name: Target, dtype: int64\n"
     ]
    },
    {
     "ename": "KeyboardInterrupt",
     "evalue": "",
     "output_type": "error",
     "traceback": [
      "\u001b[0;31m---------------------------------------------------------------------------\u001b[0m",
      "\u001b[0;31mKeyboardInterrupt\u001b[0m                         Traceback (most recent call last)",
      "Cell \u001b[0;32mIn[7], line 7\u001b[0m\n\u001b[1;32m      5\u001b[0m store_data(start_time, end_time, alive_sites)\n\u001b[1;32m      6\u001b[0m alive_sites \u001b[38;5;241m=\u001b[39m []\n\u001b[0;32m----> 7\u001b[0m \u001b[43mtime\u001b[49m\u001b[38;5;241;43m.\u001b[39;49m\u001b[43msleep\u001b[49m\u001b[43m(\u001b[49m\u001b[38;5;241;43m300\u001b[39;49m\u001b[43m)\u001b[49m \u001b[38;5;66;03m# Sleep for 5 minutes\u001b[39;00m\n",
      "\u001b[0;31mKeyboardInterrupt\u001b[0m: "
     ]
    }
   ],
   "source": [
    "# Loop to run the script every 5 minutes\n",
    "while True:\n",
    "    parse_data()\n",
    "    end_time = datetime.now().strftime(\"%m/%d/%Y %H:%M:%S\")\n",
    "    store_data(start_time, end_time, alive_sites)\n",
    "    alive_sites = []\n",
    "    time.sleep(300) # Sleep for 5 minutes"
   ]
  },
  {
   "cell_type": "code",
   "execution_count": 8,
   "id": "e2b96125",
   "metadata": {},
   "outputs": [],
   "source": [
    "gained_data = pd.read_csv('attack_data.csv')"
   ]
  },
  {
   "cell_type": "code",
   "execution_count": 13,
   "id": "da664585",
   "metadata": {},
   "outputs": [
    {
     "name": "stdout",
     "output_type": "stream",
     "text": [
      "Number of unique URLs for the given period: 47\n",
      "Top 3 most frequently attacked brands: Generic/Spear Phishing    13\n",
      "Outlook                    8\n",
      "Microsoft OneDrive         7\n",
      "Name: Target, dtype: int64\n"
     ]
    }
   ],
   "source": [
    "print(\"Number of unique URLs for the given period:\", len(set(gained_data['URL'])))\n",
    "print(\"Top 3 most frequently attacked brands:\", gained_data['Target'].value_counts().head(3))"
   ]
  }
 ],
 "metadata": {
  "kernelspec": {
   "display_name": "Python 3 (ipykernel)",
   "language": "python",
   "name": "python3"
  },
  "language_info": {
   "codemirror_mode": {
    "name": "ipython",
    "version": 3
   },
   "file_extension": ".py",
   "mimetype": "text/x-python",
   "name": "python",
   "nbconvert_exporter": "python",
   "pygments_lexer": "ipython3",
   "version": "3.10.9"
  }
 },
 "nbformat": 4,
 "nbformat_minor": 5
}
